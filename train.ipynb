{
 "cells": [
  {
   "cell_type": "code",
   "execution_count": null,
   "metadata": {
    "scrolled": true
   },
   "outputs": [],
   "source": [
    "from train import train_network\n",
    "from options.options import Options\n",
    "from copy import deepcopy\n",
    "\n",
    "org_opt = Options('options/train_options.yaml')\n",
    "org_opt.initialize()\n",
    "org_opt.train_mode = 'GAN'\n",
    "\n",
    "for exp in range(0,org_opt.number_of_experiments):\n",
    "    opt = deepcopy(org_opt)\n",
    "    exp_str = '(exp'+str(exp+1)+')'\n",
    "    if opt.number_of_experiments<=1:\n",
    "        exp_str = ''\n",
    "    opt.set_experiment(exp)\n",
    "    \n",
    "    for inst in range(org_opt.number_of_instances):\n",
    "        inst_str = '(inst'+str(inst+1)+')'\n",
    "        if opt.number_of_instances==1:\n",
    "            inst_str = ''\n",
    "        opt.name = org_opt.name+exp_str+inst_str\n",
    "\n",
    "        to_print = '***************************************************************************************' + \\\n",
    "                   '\\n    Starting training of ' + opt.name + '\\n' + \\\n",
    "                   '***************************************************************************************'\n",
    "\n",
    "        print(to_print)\n",
    "        train_network(opt)"
   ]
  },
  {
   "cell_type": "code",
   "execution_count": null,
   "metadata": {},
   "outputs": [],
   "source": []
  }
 ],
 "metadata": {
  "kernelspec": {
   "display_name": "Python 3",
   "language": "python",
   "name": "python3"
  },
  "language_info": {
   "codemirror_mode": {
    "name": "ipython",
    "version": 3
   },
   "file_extension": ".py",
   "mimetype": "text/x-python",
   "name": "python",
   "nbconvert_exporter": "python",
   "pygments_lexer": "ipython3",
   "version": "3.8.5"
  }
 },
 "nbformat": 4,
 "nbformat_minor": 4
}
